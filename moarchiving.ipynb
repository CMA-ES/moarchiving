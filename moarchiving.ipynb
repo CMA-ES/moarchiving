{
 "cells": [
  {
   "metadata": {},
   "cell_type": "markdown",
   "source": [
    "# Introduction\n",
    "\n",
    "This library implements a multi-objective archive of non-dominated solutions  (currently supporting only 2, 3 and 4 objectives). It provides easy and fast access to the hypervolume and [hypervolume plus](https://doi.org/10.1109/TEVC.2022.3210897) indicators, the contributing hypervolume of each solution, and to the [uncrowded hypervolume improvement](https://arxiv.org/abs/1904.08823) of any given point in the objective space.\n",
    "\n",
    "Additionally, the library offers a constrained version of the archive, which allows the storage of solutions to constrained multi-objective problems and the computation of their [ICMOP](https://doi.org/10.1016/j.ins.2022.05.106) indicator. \n",
    "\n",
    "## Installation\n",
    "\n",
    "Either via\n",
    "```\n",
    "pip install git+https://github.com/CMA-ES/moarchiving.git@master\n",
    "```\n",
    "\n",
    "or simply via\n",
    "\n",
    "```\n",
    "pip install moarchiving\n",
    "```\n",
    "\n",
    "\n",
    "## Testing\n",
    "\n",
    "```\n",
    "python -m moarchiving.test\n",
    "```\n",
    "\n",
    "on a system shell should output something like\n",
    "\n",
    "```\n",
    "doctest.testmod(<module 'moarchiving.moarchiving2d' from '...\\\\moarchiving\\\\moarchiving2d.py'>)\n",
    "TestResults(failed=0, attempted=90)\n",
    "\n",
    "...\n",
    "\n",
    "OK\n",
    "unittest.TextTestRunner().run(unittest.TestLoader().loadTestsFromModule(<module 'moarchiving.tests.test_sorted_list' from '...\\\\moarchiving\\\\tests\\\\test_sorted_list.py'>))\n",
    ".......\n",
    "----------------------------------------------------------------------\n",
    "Ran 7 tests in 0.001s\n",
    "```\n",
    "\n",
    "\n",
    "## Details\n",
    "\n",
    "`moarchiving` uses the [`fractions.Fraction`](https://docs.python.org/3/library/fractions.html) type to avoid rounding errors when computing hypervolume differences, but its usage can also be easily switched off by assigning the respective class attributes `hypervolume_computation_float_type` and `hypervolume_final_float_type`. The Fraction type can become prohibitively computationally expensive with increasing precision.\n",
    "\n",
    "Implementation of two-dimensional archive is heavily based on the [`bisect`](https://docs.python.org/3/library/bisect.html) module, while in three and four dimensions it is based on the [`sortedcontainers`](https://pypi.org/project/sortedcontainers/) module.\n",
    "\n",
    "\n",
    "## Links\n",
    "\n",
    "- [Code on Github](https://github.com/CMA-ES/moarchiving)\n",
    "- Documentation (possibly slighly outdated) in\n",
    "  - [this page plus performance test examples](https://cma-es.github.io/moarchiving/)\n",
    "  - [apidocs format](https://cma-es.github.io/moarchiving/moarchiving-apidocs/index.html)\n",
    "  - [epydocs format](https://cma-es.github.io/moarchiving/moarchiving-epydocs/index.html)\n",
    "\n",
    "## Releases\n",
    "- 1.0.0 addition of MOArchive classes for 3 and 4 dimensions, as well as a class for handling solutions to constrained problems\n",
    "- 0.7.0 reimplementation of `BiobjectiveNondominatedSortedList.hypervolume_improvement` by extracting a sublist first.\n",
    "- 0.6.0 the `infos` attribute is a `list` with corresponding (arbitrary) information, e.g. for keeping the respective solutions.\n",
    "- 0.5.3 fixed assertion error when not using `fractions.Fraction`\n",
    "- 0.5.2 first published version\n",
    "\n",
    "# Usage examples\n",
    "1. [Initialization](#1-initialization)\n",
    "2. [Constrained MOArchive](#2-constrained-moarchive)\n",
    "3. [Accessing solution information](#3-accessing-solution-information)\n",
    "4. [Adding solutions](#4-adding-solutions)\n",
    "5. [Archive size](#5-archive-size)\n",
    "6. [Performance indicators](#6-performance-indicators)\n",
    "7. [Contributing hypervolumes](#7-contributing-hypervolumes)\n",
    "8. [Hypervolume improvement](#8-hypervolume-improvement)\n",
    "9. [Distance to the Pareto front](#9-distance-to-the-pareto-front)\n",
    "10. [Enabling or disabling fractions](#10-enabling-or-disabling-fractions)\n",
    "11. [Additional functions](#11-additional-functions)\n",
    "12. [Visualization of indicator values](#12-visualization-of-indicator-values)\n",
    "13. [Performance tests](#13-performance-tests)"
   ]
  },
  {
   "cell_type": "markdown",
   "metadata": {},
   "source": [
    "### 1. Initialization\n",
    "The MOArchive object can be created using the `get_archive` function by providing a list of objective values, a reference point, or at least the number of objectives. Note that additional solutions can always be added using `add` or `add_list` functions, but the reference point cannot be changed once the object is initialized. A list of information strings can be provided for each solution, which will be stored as long as the corresponding solution remains in the archive (e.g., the x values of the solution). At any time, the list of non-dominated solution and their corresponding information can be accessed. "
   ]
  },
  {
   "cell_type": "code",
   "metadata": {
    "ExecuteTime": {
     "end_time": "2024-12-10T13:28:07.920809Z",
     "start_time": "2024-12-10T13:28:07.900854Z"
    }
   },
   "source": [
    "from moarchiving import get_mo_archive\n",
    "\n",
    "moa2d = get_mo_archive([[1, 5], [2, 3], [4, 5], [5, 0]], reference_point=[10, 10], infos=[\"a\", \"b\", \"c\", \"d\"])\n",
    "moa3d = get_mo_archive([[1, 2, 3], [3, 2, 1], [3, 3, 0], [2, 2, 1]], [10, 10, 10], [\"a\", \"b\", \"c\", \"d\"])\n",
    "moa4d = get_mo_archive([[1, 2, 3, 4], [1, 3, 4, 5], [4, 3, 2, 1], [1, 3, 0, 1]], reference_point=[10, 10, 10, 10], infos=[\"a\", \"b\", \"c\", \"d\"])\n",
    "\n",
    "print(\"points in the 2d archive:\", list(moa2d))\n",
    "print(\"points in the 3d archive:\", list(moa3d))\n",
    "print(\"points in the 4d archive:\", list(moa4d))"
   ],
   "outputs": [
    {
     "name": "stdout",
     "output_type": "stream",
     "text": [
      "points in the 2d archive: [[1, 5], [2, 3], [5, 0]]\n",
      "points in the 3d archive: [[3, 3, 0], [2, 2, 1], [1, 2, 3]]\n",
      "points in the 4d archive: [[1, 3, 0, 1], [1, 2, 3, 4]]\n"
     ]
    }
   ],
   "execution_count": 20
  },
  {
   "metadata": {},
   "cell_type": "markdown",
   "source": "MOArchive objects can also be initialized empty."
  },
  {
   "cell_type": "code",
   "metadata": {
    "ExecuteTime": {
     "end_time": "2024-12-10T13:28:08.155173Z",
     "start_time": "2024-12-10T13:28:08.142209Z"
    }
   },
   "source": [
    "moa = get_mo_archive(reference_point=[4, 4, 4])\n",
    "print(\"points in the empty archive:\", list(moa))"
   ],
   "outputs": [
    {
     "name": "stdout",
     "output_type": "stream",
     "text": [
      "points in the empty archive: []\n"
     ]
    }
   ],
   "execution_count": 21
  },
  {
   "metadata": {},
   "cell_type": "markdown",
   "source": [
    "### 2. Constrained MOArchive\n",
    "Constrained MOArchive supports all the functionalities of a non-constrained MOArchive, with the added capability of handling constraints when adding or initializing the archive. In addition to the objective values of a solution, constraint values must be provided in the form of a list or a number. A solution is deemed feasible when all its constraint values are less than or equal to zero. "
   ]
  },
  {
   "metadata": {
    "ExecuteTime": {
     "end_time": "2024-12-10T13:28:08.203045Z",
     "start_time": "2024-12-10T13:28:08.183100Z"
    }
   },
   "cell_type": "code",
   "source": [
    "from moarchiving import get_cmo_archive\n",
    "\n",
    "cmoa = get_cmo_archive([[1, 2, 3], [1, 3, 4], [4, 3, 2], [1, 3, 0]], [[3, 0], [0, 0], [0, 0], [0, 1]], \n",
    "                       reference_point=[5, 5, 5], infos=[\"a\", \"b\", \"c\", \"d\"])\n",
    "print(\"points in the archive:\", list(cmoa))"
   ],
   "outputs": [
    {
     "name": "stdout",
     "output_type": "stream",
     "text": [
      "points in the archive: [[4, 3, 2], [1, 3, 4]]\n"
     ]
    }
   ],
   "execution_count": 22
  },
  {
   "metadata": {},
   "cell_type": "markdown",
   "source": [
    "### 3. Accessing solution information\n",
    "`archive.infos` is used to get the information on solutions in the archive."
   ]
  },
  {
   "metadata": {
    "ExecuteTime": {
     "end_time": "2024-12-10T13:28:08.248923Z",
     "start_time": "2024-12-10T13:28:08.232965Z"
    }
   },
   "cell_type": "code",
   "source": [
    "# infos of the previously defined empty archive\n",
    "print(\"infos of the empty archive\", moa.infos)\n",
    "print(\"infos of the constrained archive\", cmoa.infos)"
   ],
   "outputs": [
    {
     "name": "stdout",
     "output_type": "stream",
     "text": [
      "infos of the empty archive []\n",
      "infos of the constrained archive ['c', 'b']\n"
     ]
    }
   ],
   "execution_count": 23
  },
  {
   "cell_type": "markdown",
   "metadata": {},
   "source": [
    "### 4. Adding solutions\n",
    "Solutions can be added to the MOArchive at any time using the `add` function (for a single solution) or the `add_list` function (for multiple solutions)."
   ]
  },
  {
   "metadata": {
    "ExecuteTime": {
     "end_time": "2024-12-10T13:28:08.296402Z",
     "start_time": "2024-12-10T13:28:08.283432Z"
    }
   },
   "cell_type": "code",
   "source": [
    "moa.add([1, 2, 3], \"a\")\n",
    "print(\"points:\", list(moa))\n",
    "print(\"infos:\", moa.infos)\n",
    "\n",
    "moa.add_list([[3, 2, 1], [2, 3, 2], [2, 2, 2]], [\"b\", \"c\", \"d\"])\n",
    "print(\"points:\", list(moa))\n",
    "print(\"infos:\", moa.infos)"
   ],
   "outputs": [
    {
     "name": "stdout",
     "output_type": "stream",
     "text": [
      "points: [[1, 2, 3]]\n",
      "infos: ['a']\n",
      "points: [[3, 2, 1], [2, 2, 2], [1, 2, 3]]\n",
      "infos: ['b', 'd', 'a']\n"
     ]
    }
   ],
   "execution_count": 24
  },
  {
   "metadata": {},
   "cell_type": "markdown",
   "source": "When adding to the constrained archive, constraint values must be added as well."
  },
  {
   "metadata": {
    "ExecuteTime": {
     "end_time": "2024-12-10T13:28:08.372500Z",
     "start_time": "2024-12-10T13:28:08.363536Z"
    }
   },
   "cell_type": "code",
   "source": [
    "cmoa.add_list([[3, 3, 3], [1, 1, 1]], [[0, 0], [42, 0]], [\"e\", \"f\"])\n",
    "print(\"points:\", list(cmoa))\n",
    "print(\"infos:\", cmoa.infos)"
   ],
   "outputs": [
    {
     "name": "stdout",
     "output_type": "stream",
     "text": [
      "points: [[4, 3, 2], [3, 3, 3], [1, 3, 4]]\n",
      "infos: ['c', 'e', 'b']\n"
     ]
    }
   ],
   "execution_count": 25
  },
  {
   "cell_type": "markdown",
   "metadata": {},
   "source": [
    "### 5. Archive size\n",
    "The MOArchive implements some functionality of a list (in the 2D case, it actually extends the `list` class, though this is not the case in 3D and 4D).  In particular, it includes the `len` method to get the number of solutions in the archive as well as the `in` keyword to check if a point is in the archive."
   ]
  },
  {
   "metadata": {
    "ExecuteTime": {
     "end_time": "2024-12-10T13:28:08.435318Z",
     "start_time": "2024-12-10T13:28:08.414372Z"
    }
   },
   "cell_type": "code",
   "source": [
    "print(\"Points in the archive:\", list(moa))\n",
    "print(\"Length of the archive:\", len(moa))\n",
    "print(\"[2, 2, 2] in moa:\", [2, 2, 2] in moa)\n",
    "print(\"[3, 2, 0] in moa:\", [3, 2, 0] in moa)"
   ],
   "outputs": [
    {
     "name": "stdout",
     "output_type": "stream",
     "text": [
      "Points in the archive: [[3, 2, 1], [2, 2, 2], [1, 2, 3]]\n",
      "Length of the archive: 3\n",
      "[2, 2, 2] in moa: True\n",
      "[3, 2, 0] in moa: False\n"
     ]
    }
   ],
   "execution_count": 26
  },
  {
   "metadata": {},
   "cell_type": "markdown",
   "source": [
    "### 6. Performance indicators\n",
    "To ensure that all performance indicators are easily comparable, we define all of them as maximization indicators (by multiplying hypervolume plus and ICMOP indicators by -1). In this case, when the archive is not empty, all the indicators are positive and have the same value. \n",
    "\n",
    "The hypervolume of the archive can be accessed using the `hypervolume` attribute, or the `hypervolume_plus` attribute for the hypervolume plus indicator. "
   ]
  },
  {
   "metadata": {
    "ExecuteTime": {
     "end_time": "2024-12-10T13:28:08.483183Z",
     "start_time": "2024-12-10T13:28:08.464233Z"
    }
   },
   "cell_type": "code",
   "source": [
    "print(\"Hypervolume of the archive:\", moa.hypervolume)\n",
    "print(\"Hypervolume plus of the archive:\", moa.hypervolume_plus)"
   ],
   "outputs": [
    {
     "name": "stdout",
     "output_type": "stream",
     "text": [
      "Hypervolume of the archive: 12\n",
      "Hypervolume plus of the archive: 12\n"
     ]
    }
   ],
   "execution_count": 27
  },
  {
   "metadata": {},
   "cell_type": "markdown",
   "source": "In case of a constrained MOArchive, the `icmop` attribute can be accessed as well. "
  },
  {
   "metadata": {
    "ExecuteTime": {
     "end_time": "2024-12-10T13:28:08.498144Z",
     "start_time": "2024-12-10T13:28:08.490164Z"
    }
   },
   "cell_type": "code",
   "source": [
    "print(\"Hyperolume of the constrained archive:\", cmoa.hypervolume)\n",
    "print(\"Hypervolume plus of the constrained archive:\", cmoa.hypervolume_plus)\n",
    "print(\"ICMOP of the constrained archive:\", cmoa.icmop)"
   ],
   "outputs": [
    {
     "name": "stdout",
     "output_type": "stream",
     "text": [
      "Hyperolume of the constrained archive: 14\n",
      "Hypervolume plus of the constrained archive: 14\n",
      "ICMOP of the constrained archive: 14\n"
     ]
    }
   ],
   "execution_count": 28
  },
  {
   "cell_type": "markdown",
   "metadata": {},
   "source": [
    "### 7. Contributing hypervolumes\n",
    "The `contributing_hypervolumes` attribute provides a list of hypervolume contributions for each point of the archive. Alternatively, the contribution for a single point can be computed using the `contributing_hypervolume(point)` method."
   ]
  },
  {
   "cell_type": "code",
   "metadata": {
    "ExecuteTime": {
     "end_time": "2024-12-10T13:28:08.591378Z",
     "start_time": "2024-12-10T13:28:08.567428Z"
    }
   },
   "source": [
    "for i, objectives in enumerate(moa):\n",
    "    assert moa.contributing_hypervolume(objectives) == moa.contributing_hypervolumes[i]\n",
    "    print(\"contributing hv of point\", objectives, \"is\", moa.contributing_hypervolume(objectives))\n",
    "\n",
    "print(\"All contributing hypervolumes:\", moa.contributing_hypervolumes)"
   ],
   "outputs": [
    {
     "name": "stdout",
     "output_type": "stream",
     "text": [
      "contributing hv of point [3, 2, 1] is 2\n",
      "contributing hv of point [2, 2, 2] is 2\n",
      "contributing hv of point [1, 2, 3] is 2\n",
      "All contributing hypervolumes: [Fraction(2, 1), Fraction(2, 1), Fraction(2, 1)]\n"
     ]
    }
   ],
   "execution_count": 29
  },
  {
   "cell_type": "markdown",
   "metadata": {},
   "source": [
    "### 8. Hypervolume improvement\n",
    "The `hypervolume_improvement(point)` method returns the improvement of the hypervolume if we would add the point to the archive."
   ]
  },
  {
   "cell_type": "code",
   "metadata": {
    "ExecuteTime": {
     "end_time": "2024-12-10T13:28:08.638238Z",
     "start_time": "2024-12-10T13:28:08.624286Z"
    }
   },
   "source": [
    "point = [1, 3, 0]\n",
    "print(f\"hypervolume before adding {point}: {moa.hypervolume}\")\n",
    "print(f\"hypervolume improvement of point {point}: {moa.hypervolume_improvement(point)}\")\n",
    "moa.add(point)\n",
    "print(f\"hypervolume after adding {point}: {moa.hypervolume}\")"
   ],
   "outputs": [
    {
     "name": "stdout",
     "output_type": "stream",
     "text": [
      "hypervolume before adding [1, 3, 0]: 12\n",
      "hypervolume improvement of point [1, 3, 0]: 6\n",
      "hypervolume after adding [1, 3, 0]: 18\n"
     ]
    }
   ],
   "execution_count": 30
  },
  {
   "cell_type": "markdown",
   "metadata": {},
   "source": [
    "### 9. Distance to the Pareto front\n",
    "The `distance_to_pareto_front(point)` method returns the distance between the given point and the Pareto front."
   ]
  },
  {
   "cell_type": "code",
   "metadata": {
    "ExecuteTime": {
     "end_time": "2024-12-10T13:28:08.717056Z",
     "start_time": "2024-12-10T13:28:08.703067Z"
    }
   },
   "source": [
    "print(f\"Current archive: {list(moa)}\")\n",
    "print(\"Distance of [3, 2, 1] to pareto front:\", moa.distance_to_pareto_front([3, 2, 1]))\n",
    "print(\"Distance of [3, 2, 2] to pareto front:\", moa.distance_to_pareto_front([3, 3, 3]))"
   ],
   "outputs": [
    {
     "name": "stdout",
     "output_type": "stream",
     "text": [
      "Current archive: [[1, 3, 0], [3, 2, 1], [2, 2, 2], [1, 2, 3]]\n",
      "Distance of [3, 2, 1] to pareto front: 0.0\n",
      "Distance of [3, 2, 2] to pareto front: 1.0\n"
     ]
    }
   ],
   "execution_count": 31
  },
  {
   "cell_type": "markdown",
   "metadata": {},
   "source": [
    "### 10. Enabling or disabling fractions \n",
    "To avoid loss of precision, fractions are used by default. This can be changed to floats by setting the `hypervolume_final_float_type` and `hypervolume_computation_float_type` function attributes."
   ]
  },
  {
   "cell_type": "code",
   "metadata": {
    "ExecuteTime": {
     "end_time": "2024-12-10T13:28:08.778865Z",
     "start_time": "2024-12-10T13:28:08.758915Z"
    }
   },
   "source": [
    "import fractions\n",
    "get_mo_archive.hypervolume_computation_float_type = fractions.Fraction\n",
    "get_mo_archive.hypervolume_final_float_type = fractions.Fraction\n",
    "\n",
    "moa3_fr = get_mo_archive([[1, 2, 3], [2, 1, 3], [3, 3, 1.32], [1.3, 1.3, 3], [1.7, 1.1, 2]], reference_point=[4, 4, 4])\n",
    "print(moa3_fr.hypervolume)\n",
    "\n",
    "get_mo_archive.hypervolume_computation_float_type = float\n",
    "get_mo_archive.hypervolume_final_float_type = float\n",
    "\n",
    "moa3_nofr = get_mo_archive([[1, 2, 3], [2, 1, 3], [3, 3, 1.32], [1.3, 1.3, 3], [1.7, 1.1, 2]], reference_point=[4, 4, 4])\n",
    "print(moa3_nofr.hypervolume)"
   ],
   "outputs": [
    {
     "name": "stdout",
     "output_type": "stream",
     "text": [
      "161245156349030777798724819133399/10141204801825835211973625643008\n",
      "15.899999999999999\n"
     ]
    }
   ],
   "execution_count": 32
  },
  {
   "metadata": {},
   "cell_type": "markdown",
   "source": [
    "### 11. Additional functions\n",
    "MOArchive also implements additional functions to check whether a given point is in the archive:\n",
    "- `in_domain`: Is the point in the domain?\n",
    "- `dominates`: Is the point dominated by the archive?\n",
    "- `dominators`: Which points (and how many) dominate the given point?"
   ]
  },
  {
   "metadata": {
    "ExecuteTime": {
     "end_time": "2024-12-10T13:28:08.794820Z",
     "start_time": "2024-12-10T13:28:08.785847Z"
    }
   },
   "cell_type": "code",
   "source": [
    "points_list = [[5, 5, 0], [2, 2, 3], [0, 2, 3]]\n",
    "print(\"archive:\", list(moa), \"\\n\")\n",
    "print(\"point     | in domain | dominates | num of dominators | dominators\")\n",
    "print(\"----------|-----------|-----------|-------------------|-----------\")\n",
    "for point in points_list:\n",
    "    print(f\"{point} | {moa.in_domain(point):9} | {moa.dominates(point):9} | \"\n",
    "          f\"{moa.dominators(point, number_only=True):17} | {moa.dominators(point)}\")"
   ],
   "outputs": [
    {
     "name": "stdout",
     "output_type": "stream",
     "text": [
      "archive: [[1, 3, 0], [3, 2, 1], [2, 2, 2], [1, 2, 3]] \n",
      "\n",
      "point     | in domain | dominates | num of dominators | dominators\n",
      "----------|-----------|-----------|-------------------|-----------\n",
      "[5, 5, 0] |         0 |         1 |                 1 | [[1, 3, 0]]\n",
      "[2, 2, 3] |         1 |         1 |                 2 | [[2, 2, 2], [1, 2, 3]]\n",
      "[0, 2, 3] |         1 |         0 |                 0 | []\n"
     ]
    }
   ],
   "execution_count": 33
  },
  {
   "metadata": {},
   "cell_type": "markdown",
   "source": [
    "### 12. Visualization of indicator values\n",
    "By saving the values of indicators for each solution added to the archive, we can visualize their change over time."
   ]
  },
  {
   "metadata": {
    "ExecuteTime": {
     "end_time": "2024-12-10T13:28:08.904488Z",
     "start_time": "2024-12-10T13:28:08.842653Z"
    }
   },
   "cell_type": "code",
   "source": [
    "import matplotlib.pyplot as plt\n",
    "import random\n",
    "\n",
    "n_obj = 3\n",
    "\n",
    "indicators_cmoa = []\n",
    "indicators_moa = []\n",
    "cmoa = get_cmo_archive(reference_point=[0.5] * n_obj, n_obj=n_obj, tau=0.2)\n",
    "moa = get_mo_archive(reference_point=[0.1] * n_obj, n_obj=n_obj)\n",
    "\n",
    "for i in range(2000):\n",
    "    objectives = [random.random() for _ in range(n_obj)]\n",
    "    constraints = [max(random.random() - 0.1, 0), max(random.random() - 0.1, 0)]\n",
    "    \n",
    "    cmoa.add(objectives, constraints, info=f\"point_{i}\")\n",
    "    moa.add(objectives, info=f\"point_{i}\")\n",
    "    \n",
    "    indicators_cmoa.append((cmoa.icmop, cmoa.hypervolume_plus, cmoa.hypervolume))\n",
    "    indicators_moa.append((moa.hypervolume_plus, moa.hypervolume))\n",
    "    "
   ],
   "outputs": [],
   "execution_count": 34
  },
  {
   "metadata": {
    "ExecuteTime": {
     "end_time": "2024-12-10T13:28:09.232643Z",
     "start_time": "2024-12-10T13:28:08.906482Z"
    }
   },
   "cell_type": "code",
   "source": [
    "fig, axs = plt.subplots(1, 2, figsize=(10, 5))\n",
    "axs[0].plot([x[2] for x in indicators_cmoa], label=\"hypervolume\")\n",
    "axs[0].plot([x[1] for x in indicators_cmoa], label=\"hypervolume_plus\")\n",
    "axs[0].plot([x[0] for x in indicators_cmoa], label=\"ICMOP\")\n",
    "axs[0].axhline(0, color=\"black\", linestyle=\"--\", zorder=0)\n",
    "axs[0].axhline(-cmoa.tau, color=\"black\", linestyle=\"--\", zorder=0)\n",
    "axs[0].set_title(\"Constrained MOArchive\")\n",
    "axs[0].legend()\n",
    "\n",
    "axs[1].plot([x[1] for x in indicators_moa], label=\"hypervolume\")\n",
    "axs[1].plot([x[0] for x in indicators_moa], label=\"hypervolume_plus\")\n",
    "axs[1].set_title(\"MOArchive\")\n",
    "axs[1].axhline(0, color=\"black\", linestyle=\"--\", zorder=0)\n",
    "axs[1].legend()\n",
    "plt.show()"
   ],
   "outputs": [
    {
     "data": {
      "text/plain": [
       "<Figure size 1000x500 with 2 Axes>"
      ],
      "image/png": "[encoded data removed]"
     },
     "metadata": {},
     "output_type": "display_data"
    }
   ],
   "execution_count": 35
  },
  {
   "metadata": {},
   "cell_type": "markdown",
   "source": "### 13. Performance tests"
  },
  {
   "metadata": {
    "ExecuteTime": {
     "end_time": "2024-12-10T13:28:09.248596Z",
     "start_time": "2024-12-10T13:28:09.234615Z"
    }
   },
   "cell_type": "code",
   "source": [
    "import time\n",
    "from moarchiving.tests.point_sampling import get_non_dominated_points\n",
    "test_archive_sizes = [0] + [2 ** i for i in range(21)]\n",
    "\n",
    "get_mo_archive.hypervolume_computation_float_type = fractions.Fraction\n",
    "get_mo_archive.hypervolume_final_float_type = fractions.Fraction"
   ],
   "outputs": [],
   "execution_count": 36
  },
  {
   "metadata": {},
   "cell_type": "markdown",
   "source": "#### 13.1. Initializing the archive"
  },
  {
   "metadata": {
    "ExecuteTime": {
     "end_time": "2024-12-10T13:29:48.175231Z",
     "start_time": "2024-12-10T13:28:09.250569Z"
    }
   },
   "cell_type": "code",
   "source": [
    "n_repeats = 100\n",
    "time_limit = 10\n",
    "\n",
    "for n_obj in [2, 3, 4]:\n",
    "    print(f\"Testing {n_obj} objectives\")\n",
    "    times = []\n",
    "    archive_sizes = []\n",
    "    \n",
    "    for archive_size in test_archive_sizes:\n",
    "        points = get_non_dominated_points(archive_size, n_dim=n_obj)\n",
    "        t0 = time.time()\n",
    "        moa = [get_mo_archive(points, [1] * n_obj, n_obj=n_obj)\n",
    "               for _ in range(n_repeats)]\n",
    "        hv = [m.hypervolume for m in moa]\n",
    "        t1 = time.time()\n",
    "        \n",
    "        times.append(max((t1 - t0) / n_repeats, 10e-4))\n",
    "        print(\".\", end=\"\")\n",
    "        archive_sizes.append(archive_size)\n",
    "        \n",
    "        if t1 - t0 > time_limit:\n",
    "            break\n",
    "    print()\n",
    "    \n",
    "    plt.plot(archive_sizes, times, '-o', label=f\"{n_obj} objectives\")\n",
    "\n",
    "plt.title(\"Initialization and hypervolume computation\")\n",
    "plt.xlabel(\"Archive size\")\n",
    "plt.ylabel(\"Time [s]\")\n",
    "plt.yscale(\"log\")\n",
    "plt.xscale(\"log\")\n",
    "plt.grid(True)\n",
    "plt.legend()\n",
    "plt.show()"
   ],
   "outputs": [
    {
     "name": "stdout",
     "output_type": "stream",
     "text": [
      "Testing 2 objectives\n",
      "..............\n",
      "Testing 3 objectives\n",
      ".............\n",
      "Testing 4 objectives\n",
      ".........\n"
     ]
    },
    {
     "data": {
      "text/plain": [
       "<Figure size 640x480 with 1 Axes>"
      ],
      "image/png": "[encoded data removed]"
     },
     "metadata": {},
     "output_type": "display_data"
    }
   ],
   "execution_count": 37
  },
  {
   "metadata": {},
   "cell_type": "markdown",
   "source": "#### 13.2. Adding a solution to an existing archive"
  },
  {
   "metadata": {
    "ExecuteTime": {
     "end_time": "2024-12-10T13:40:39.168524Z",
     "start_time": "2024-12-10T13:29:48.177226Z"
    }
   },
   "cell_type": "code",
   "source": [
    "n_repeats = 10\n",
    "time_limit = 10\n",
    "\n",
    "for n_obj in [2, 3, 4]:\n",
    "    print(f\"Testing {n_obj} objectives\")\n",
    "    times = []\n",
    "    archive_sizes = []\n",
    "\n",
    "    for archive_size in test_archive_sizes:\n",
    "        \n",
    "        points = get_non_dominated_points(archive_size, n_dim=n_obj)\n",
    "        add_points = get_non_dominated_points(n_repeats, n_dim=n_obj)\n",
    "        moa = [get_mo_archive(points, [1] * n_obj, n_obj=n_obj) for _ in range(n_repeats)]\n",
    "        \n",
    "        t0 = time.time()\n",
    "        for i, m in enumerate(moa):\n",
    "            m.add(add_points[i])\n",
    "        t1 = time.time()\n",
    "\n",
    "        times.append(max((t1 - t0) / n_repeats, 10e-4))\n",
    "        print(\".\", end=\"\")\n",
    "        archive_sizes.append(archive_size)\n",
    "\n",
    "        if t1 - t0 > time_limit:\n",
    "            break\n",
    "    print()\n",
    "    time.sleep(1)\n",
    "\n",
    "    plt.plot(archive_sizes, times, '-o', label=f\"{n_obj} objectives\")\n",
    "\n",
    "plt.title(\"Adding a point to the archive\")\n",
    "plt.xlabel(\"Archive size\")\n",
    "plt.ylabel(\"Time [s]\")\n",
    "plt.yscale(\"log\")\n",
    "plt.xscale(\"log\")\n",
    "plt.grid(True)\n",
    "plt.legend()\n",
    "plt.show()"
   ],
   "outputs": [
    {
     "name": "stdout",
     "output_type": "stream",
     "text": [
      "Testing 2 objectives\n",
      "......................\n",
      "Testing 3 objectives\n",
      "................\n",
      "Testing 4 objectives\n",
      "...........\n"
     ]
    },
    {
     "data": {
      "text/plain": [
       "<Figure size 640x480 with 1 Axes>"
      ],
      "image/png": "[encoded data removed]"
     },
     "metadata": {},
     "output_type": "display_data"
    }
   ],
   "execution_count": 38
  }
 ],
 "metadata": {
  "kernelspec": {
   "display_name": "Python 3 (ipykernel)",
   "language": "python",
   "name": "python3"
  },
  "language_info": {
   "codemirror_mode": {
    "name": "ipython",
    "version": 3
   },
   "file_extension": ".py",
   "mimetype": "text/x-python",
   "name": "python",
   "nbconvert_exporter": "python",
   "pygments_lexer": "ipython3",
   "version": "3.10.14"
  }
 },
 "nbformat": 4,
 "nbformat_minor": 4
}
