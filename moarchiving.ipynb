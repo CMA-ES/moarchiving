{
 "cells": [
  {
   "cell_type": "markdown",
   "metadata": {},
   "source": [
    "# Introduction\n",
    "\n",
    "The `class` `moarchiving.BiobjectiveNondominatedSortedList` implements a bi-objective non-dominated archive with `list` as parent class in [Python](https://www.python.org/). The class is heavily based on the [`bisect`](https://docs.python.org/3/library/bisect.html) module. It provides easy and fast access to the overall hypervolume, the contributing hypervolume of each element, and to the [uncrowded hypervolume improvement](https://arxiv.org/abs/1904.08823) of any given point in objective space.\n",
    "\n",
    "## Installation\n",
    "\n",
    "Either via\n",
    "```\n",
    "pip install git+https://github.com/CMA-ES/moarchiving.git@master\n",
    "```\n",
    "\n",
    "or simply via\n",
    "\n",
    "```\n",
    "pip install moarchiving\n",
    "```\n",
    "The single file [`moarchiving.py`](https://github.com/CMA-ES/moarchiving/moarchiving/moarchiving.py) (from the `moarchiving/` folder) can also be directly used by itself when copied in the current folder or in a path visible to Python (e.g. a path contained in `sys.path`).\n",
    "\n",
    "## Details\n",
    "\n",
    "`moarchiving` uses the [`fractions.Fraction`](https://docs.python.org/3/library/fractions.html) type to avoid rounding errors when computing hypervolume differences, but its usage can also easily switched off by assigning the respective class attributes `hypervolume_computation_float_type` and `hypervolume_final_float_type`.\n",
    "\n",
    "## Links\n",
    "\n",
    "- [Code on Github](https://github.com/CMA-ES/moarchiving)\n",
    "- Documentation (possibly slighly outdated) in\n",
    "  - [this page plus performance test examples](https://cma-es.github.io/moarchiving/)\n",
    "  - [apidocs format](https://cma-es.github.io/moarchiving/moarchiving-apidocs/index.html)\n",
    "  - [epydocs format](https://cma-es.github.io/moarchiving/moarchiving-epydocs/index.html)\n"
   ]
  },
  {
   "cell_type": "markdown",
   "metadata": {},
   "source": [
    "## Testing and timing of `moarchiving.BiobjectiveNondominatedSortedList`"
   ]
  },
  {
   "cell_type": "code",
   "execution_count": 1,
   "metadata": {},
   "outputs": [
    {
     "data": {
      "text/plain": [
       "TestResults(failed=0, attempted=80)"
      ]
     },
     "execution_count": 1,
     "metadata": {},
     "output_type": "execute_result"
    }
   ],
   "source": [
    "import doctest\n",
    "import moarchiving\n",
    "NA = moarchiving.BiobjectiveNondominatedSortedList\n",
    "doctest.testmod(moarchiving.moarchiving)\n",
    "# NA.make_expensive_asserts = True"
   ]
  },
  {
   "cell_type": "code",
   "execution_count": 2,
   "metadata": {},
   "outputs": [],
   "source": [
    "import numpy as np\n",
    "def nondom_arch(n):\n",
    "    return np.abs(np.linspace(-1, 1, 2 * n).reshape(2, n).T).tolist()\n",
    "# nondom_arch(3)"
   ]
  },
  {
   "cell_type": "code",
   "execution_count": 3,
   "metadata": {},
   "outputs": [],
   "source": [
    "import fractions\n",
    "id_ = lambda x: x\n",
    "rg = np.arange(0.1, 1000)"
   ]
  },
  {
   "cell_type": "markdown",
   "metadata": {},
   "source": [
    "### Timing of `Fraction`"
   ]
  },
  {
   "cell_type": "code",
   "execution_count": 4,
   "metadata": {},
   "outputs": [
    {
     "name": "stdout",
     "output_type": "stream",
     "text": [
      "100 µs ± 456 ns per loop (mean ± std. dev. of 7 runs, 10000 loops each)\n"
     ]
    }
   ],
   "source": [
    "%timeit [id_(i) for i in rg]  # expect 120mics"
   ]
  },
  {
   "cell_type": "code",
   "execution_count": 5,
   "metadata": {},
   "outputs": [
    {
     "name": "stdout",
     "output_type": "stream",
     "text": [
      "130 µs ± 4.55 µs per loop (mean ± std. dev. of 7 runs, 10000 loops each)\n"
     ]
    }
   ],
   "source": [
    "%timeit [float(i) for i in rg]  # expect 170mics"
   ]
  },
  {
   "cell_type": "code",
   "execution_count": 6,
   "metadata": {},
   "outputs": [
    {
     "name": "stdout",
     "output_type": "stream",
     "text": [
      "1.59 ms ± 123 µs per loop (mean ± std. dev. of 7 runs, 1000 loops each)\n"
     ]
    }
   ],
   "source": [
    "%timeit [fractions.Fraction(i) for i in rg]  # expect 1.7ms"
   ]
  },
  {
   "cell_type": "markdown",
   "metadata": {},
   "source": [
    "### Various"
   ]
  },
  {
   "cell_type": "code",
   "execution_count": 7,
   "metadata": {},
   "outputs": [
    {
     "data": {
      "text/plain": [
       "[[-1.146, -0.11], [-0.749, -1.188]]"
      ]
     },
     "execution_count": 7,
     "metadata": {},
     "output_type": "execute_result"
    }
   ],
   "source": [
    "a = moarchiving.BiobjectiveNondominatedSortedList(\n",
    "    [[-0.749, -1.188], [-0.557, 1.1076],\n",
    "     [0.2454, 0.4724], [-1.146, -0.110]], [10, 10])\n",
    "a._asserts()\n",
    "a"
   ]
  },
  {
   "cell_type": "code",
   "execution_count": 8,
   "metadata": {},
   "outputs": [],
   "source": [
    ">>> for i in range(len(a)):\n",
    "...    assert a.contributing_hypervolume(i) == a.contributing_hypervolumes[i]\n",
    ">>> assert all(map(lambda x, y: x - 1e-9 < y < x + 1e-9,\n",
    "...               a.contributing_hypervolumes,\n",
    "...               [4.01367, 11.587422]))"
   ]
  },
  {
   "cell_type": "code",
   "execution_count": 9,
   "metadata": {},
   "outputs": [
    {
     "data": {
      "text/plain": [
       "True"
      ]
     },
     "execution_count": 9,
     "metadata": {},
     "output_type": "execute_result"
    }
   ],
   "source": [
    "a.dominators([1, 3]) == a"
   ]
  },
  {
   "cell_type": "code",
   "execution_count": 10,
   "metadata": {},
   "outputs": [
    {
     "data": {
      "text/plain": [
       "1"
      ]
     },
     "execution_count": 10,
     "metadata": {},
     "output_type": "execute_result"
    }
   ],
   "source": [
    "a.add([-1, -3])  # return index where the element was added"
   ]
  },
  {
   "cell_type": "code",
   "execution_count": 11,
   "metadata": {},
   "outputs": [
    {
     "data": {
      "text/plain": [
       "[[-1.146, -0.11], [-1, -3]]"
      ]
     },
     "execution_count": 11,
     "metadata": {},
     "output_type": "execute_result"
    }
   ],
   "source": [
    "a"
   ]
  },
  {
   "cell_type": "code",
   "execution_count": 12,
   "metadata": {},
   "outputs": [],
   "source": [
    "a.add([-1.5, 44])"
   ]
  },
  {
   "cell_type": "code",
   "execution_count": 13,
   "metadata": {},
   "outputs": [
    {
     "data": {
      "text/plain": [
       "[[-1.146, -0.11], [-1, -3]]"
      ]
     },
     "execution_count": 13,
     "metadata": {},
     "output_type": "execute_result"
    }
   ],
   "source": [
    "a"
   ]
  },
  {
   "cell_type": "code",
   "execution_count": 14,
   "metadata": {},
   "outputs": [
    {
     "data": {
      "text/plain": [
       "True"
      ]
     },
     "execution_count": 14,
     "metadata": {},
     "output_type": "execute_result"
    }
   ],
   "source": [
    "a.dominates(a[0])"
   ]
  },
  {
   "cell_type": "code",
   "execution_count": 15,
   "metadata": {},
   "outputs": [
    {
     "data": {
      "text/plain": [
       "False"
      ]
     },
     "execution_count": 15,
     "metadata": {},
     "output_type": "execute_result"
    }
   ],
   "source": [
    "a.dominates([-1.2, 1])"
   ]
  },
  {
   "cell_type": "code",
   "execution_count": 16,
   "metadata": {},
   "outputs": [],
   "source": [
    "a._asserts()"
   ]
  },
  {
   "cell_type": "code",
   "execution_count": 17,
   "metadata": {},
   "outputs": [],
   "source": [
    "NA.merge = NA.add_list  # merge disappeared\n",
    "b = NA(a)\n",
    "b.merge([[-1.2, 1]])\n",
    "# print(b)\n",
    "a.add_list([[-1.2, 1]])\n",
    "# print(a)\n",
    "assert b == a\n",
    "a.merge(b)\n",
    "assert b == a"
   ]
  },
  {
   "cell_type": "code",
   "execution_count": 18,
   "metadata": {},
   "outputs": [],
   "source": [
    "r = np.random.randn(100_000, 2).tolist()\n",
    "r2 = sorted(np.random.randn(200, 2).tolist())\n",
    "assert NA(r).add_list(r2) == NA(r).merge(r2)"
   ]
  },
  {
   "cell_type": "code",
   "execution_count": 19,
   "metadata": {},
   "outputs": [
    {
     "name": "stdout",
     "output_type": "stream",
     "text": [
      "331 µs ± 5.94 µs per loop (mean ± std. dev. of 7 runs, 1000 loops each)\n"
     ]
    }
   ],
   "source": [
    "%%timeit a = NA(r)  # expect 390mics\n",
    "a.add_list(r2)"
   ]
  },
  {
   "cell_type": "code",
   "execution_count": 20,
   "metadata": {},
   "outputs": [
    {
     "name": "stdout",
     "output_type": "stream",
     "text": [
      "338 µs ± 4.27 µs per loop (mean ± std. dev. of 7 runs, 1000 loops each)\n"
     ]
    }
   ],
   "source": [
    "%%timeit a = NA(r)  # expect 290mics\n",
    "a.merge(r2)"
   ]
  },
  {
   "cell_type": "markdown",
   "metadata": {},
   "source": [
    "## Timing of initialization"
   ]
  },
  {
   "cell_type": "code",
   "execution_count": 21,
   "metadata": {},
   "outputs": [
    {
     "name": "stdout",
     "output_type": "stream",
     "text": [
      "96.6 µs ± 1.06 µs per loop (mean ± std. dev. of 7 runs, 10000 loops each)\n",
      "761 µs ± 12.2 µs per loop (mean ± std. dev. of 7 runs, 1000 loops each)\n",
      "10.4 ms ± 1.2 ms per loop (mean ± std. dev. of 7 runs, 100 loops each)\n"
     ]
    }
   ],
   "source": [
    "%timeit nondom_arch(1_000)\n",
    "%timeit nondom_arch(10_000)\n",
    "%timeit nondom_arch(100_000)  # just checking baseline, expect 16ms"
   ]
  },
  {
   "cell_type": "code",
   "execution_count": 22,
   "metadata": {},
   "outputs": [
    {
     "name": "stdout",
     "output_type": "stream",
     "text": [
      "964 µs ± 8.49 µs per loop (mean ± std. dev. of 7 runs, 1000 loops each)\n",
      "9.34 ms ± 186 µs per loop (mean ± std. dev. of 7 runs, 100 loops each)\n",
      "95.3 ms ± 873 µs per loop (mean ± std. dev. of 7 runs, 10 loops each)\n"
     ]
    }
   ],
   "source": [
    "%timeit NA(nondom_arch(1_000))\n",
    "%timeit NA(nondom_arch(10_000))  # expect 10ms\n",
    "%timeit NA(nondom_arch(100_000))  # expect 112ms, nondom_arch itself takes about 25%"
   ]
  },
  {
   "cell_type": "code",
   "execution_count": 23,
   "metadata": {},
   "outputs": [
    {
     "data": {
      "text/plain": [
       "(100000, 13)"
      ]
     },
     "execution_count": 23,
     "metadata": {},
     "output_type": "execute_result"
    }
   ],
   "source": [
    "randars = {}  # prepare input lists\n",
    "for n in [1_000, 10_000, 100_000]:\n",
    "    randars[n] = np.random.rand(n, 2).tolist()\n",
    "len(NA(nondom_arch(100_000))), len(NA(randars[100_000]))"
   ]
  },
  {
   "cell_type": "code",
   "execution_count": 24,
   "metadata": {},
   "outputs": [
    {
     "name": "stdout",
     "output_type": "stream",
     "text": [
      "535 µs ± 2.8 µs per loop (mean ± std. dev. of 7 runs, 1000 loops each)\n",
      "7.16 ms ± 68.6 µs per loop (mean ± std. dev. of 7 runs, 100 loops each)\n",
      "129 ms ± 5.62 ms per loop (mean ± std. dev. of 7 runs, 10 loops each)\n"
     ]
    }
   ],
   "source": [
    "%timeit NA(randars[1_000])\n",
    "%timeit NA(randars[10_000])  # expect 9ms\n",
    "%timeit NA(randars[100_000])  # expect 180 ms"
   ]
  },
  {
   "cell_type": "code",
   "execution_count": 25,
   "metadata": {},
   "outputs": [
    {
     "name": "stdout",
     "output_type": "stream",
     "text": [
      "126 µs ± 977 ns per loop (mean ± std. dev. of 7 runs, 10000 loops each)\n",
      "1.08 ms ± 17.3 µs per loop (mean ± std. dev. of 7 runs, 1000 loops each)\n",
      "14.8 ms ± 298 µs per loop (mean ± std. dev. of 7 runs, 100 loops each)\n"
     ]
    }
   ],
   "source": [
    "%timeit sorted(nondom_arch(1_000))\n",
    "%timeit sorted(nondom_arch(10_000))  # expect 1.2ms\n",
    "%timeit sorted(nondom_arch(100_000)) # expect 21ms"
   ]
  },
  {
   "cell_type": "code",
   "execution_count": 26,
   "metadata": {},
   "outputs": [
    {
     "name": "stdout",
     "output_type": "stream",
     "text": [
      "288 µs ± 10.4 µs per loop (mean ± std. dev. of 7 runs, 1000 loops each)\n",
      "4.43 ms ± 86.6 µs per loop (mean ± std. dev. of 7 runs, 100 loops each)\n",
      "76.2 ms ± 5.69 ms per loop (mean ± std. dev. of 7 runs, 10 loops each)\n"
     ]
    }
   ],
   "source": [
    "%timeit sorted(randars[1_000])\n",
    "%timeit sorted(randars[10_000])   # expect 5ms\n",
    "%timeit sorted(randars[100_000])  # expect 110ms"
   ]
  },
  {
   "cell_type": "code",
   "execution_count": 27,
   "metadata": {},
   "outputs": [
    {
     "name": "stdout",
     "output_type": "stream",
     "text": [
      "2.13 µs ± 37.6 ns per loop (mean ± std. dev. of 7 runs, 100000 loops each)\n",
      "33 µs ± 685 ns per loop (mean ± std. dev. of 7 runs, 10000 loops each)\n",
      "407 µs ± 12.3 µs per loop (mean ± std. dev. of 7 runs, 1000 loops each)\n"
     ]
    }
   ],
   "source": [
    "%timeit list(randars[1_000])\n",
    "%timeit list(randars[10_000])\n",
    "%timeit list(randars[100_000])  # expect 1ms"
   ]
  },
  {
   "cell_type": "markdown",
   "metadata": {},
   "source": [
    "### Summary with 1e5 data (outdated)\n",
    "```\n",
    "   1 ms `list` \n",
    "  22 ms `sorted` on sorted list\n",
    " 130 ms `sorted` on unsorted list\n",
    " 110 ms archive on sorted nondominated list\n",
    " 190 ms archive on list which needs pruning (was 1300ms)\n",
    "```"
   ]
  },
  {
   "cell_type": "markdown",
   "metadata": {},
   "source": [
    "## Timing of `add`"
   ]
  },
  {
   "cell_type": "code",
   "execution_count": 28,
   "metadata": {},
   "outputs": [
    {
     "name": "stdout",
     "output_type": "stream",
     "text": [
      "24.6 ms ± 982 µs per loop (mean ± std. dev. of 7 runs, 10 loops each)\n"
     ]
    }
   ],
   "source": [
    "%%timeit a = NA(nondom_arch(1_000))  # expect 7.3ms\n",
    "for i in range(1000):\n",
    "    a.add([ai - 1e-4 for ai in a[np.random.randint(len(a))]])\n",
    "len(a)"
   ]
  },
  {
   "cell_type": "code",
   "execution_count": 29,
   "metadata": {},
   "outputs": [
    {
     "name": "stdout",
     "output_type": "stream",
     "text": [
      "25.1 ms ± 744 µs per loop (mean ± std. dev. of 7 runs, 10 loops each)\n"
     ]
    }
   ],
   "source": [
    "%%timeit a = NA(nondom_arch(10_000))  # expect 7.7ms\n",
    "for i in range(1000):\n",
    "    a.add([ai - 1e-4 for ai in a[np.random.randint(len(a))]])\n",
    "len(a)"
   ]
  },
  {
   "cell_type": "code",
   "execution_count": 30,
   "metadata": {},
   "outputs": [
    {
     "name": "stdout",
     "output_type": "stream",
     "text": [
      "35 ms ± 1.29 ms per loop (mean ± std. dev. of 7 runs, 10 loops each)\n"
     ]
    }
   ],
   "source": [
    "%%timeit a = NA(nondom_arch(100_000))  # expect 15ms\n",
    "for i in range(1000):\n",
    "    a.add([ai - 1e-4 for ai in a[np.random.randint(len(a))]])\n",
    "len(a)  # deletion kicks in and makes it 20 times slower if implemented with pop"
   ]
  },
  {
   "cell_type": "code",
   "execution_count": 31,
   "metadata": {},
   "outputs": [
    {
     "name": "stdout",
     "output_type": "stream",
     "text": [
      "25.2 ms ± 472 µs per loop (mean ± std. dev. of 7 runs, 10 loops each)\n"
     ]
    }
   ],
   "source": [
    "%%timeit a = NA(nondom_arch(100_000))  # expect 10ms\n",
    "for i in range(1000):\n",
    "    a.add([ai - 1e-8 for ai in a[np.random.randint(len(a))]])\n",
    "len(a) # no deletion has taken place"
   ]
  },
  {
   "cell_type": "code",
   "execution_count": 32,
   "metadata": {},
   "outputs": [
    {
     "name": "stdout",
     "output_type": "stream",
     "text": [
      "97.4 ms ± 3.52 ms per loop (mean ± std. dev. of 7 runs, 10 loops each)\n"
     ]
    }
   ],
   "source": [
    "%%timeit a = NA(nondom_arch(1_000_000))  # expect 270ms\n",
    "for i in range(1000):\n",
    "    a.add([ai - 1e-4 for ai in a[np.random.randint(len(a))]])\n",
    "len(a)  # deletion kicks in"
   ]
  },
  {
   "cell_type": "code",
   "execution_count": 33,
   "metadata": {},
   "outputs": [
    {
     "name": "stdout",
     "output_type": "stream",
     "text": [
      "27.9 ms ± 1.36 ms per loop (mean ± std. dev. of 7 runs, 10 loops each)\n"
     ]
    }
   ],
   "source": [
    "%%timeit a = NA(nondom_arch(1_000_000))  # expect 12ms\n",
    "for i in range(1000):\n",
    "    a.add([ai - 1e-8 for ai in a[np.random.randint(len(a))]])\n",
    "len(a)"
   ]
  },
  {
   "cell_type": "code",
   "execution_count": 8,
   "metadata": {},
   "outputs": [],
   "source": [
    "ar = np.random.rand(int(1e6), 2)\n",
    "ar[:, 0] += np.linspace(0, 100000, len(ar))\n",
    "ar[:, 1] -= np.linspace(0, 100000, len(ar))\n",
    "l_ = [list(i) for i in ar]"
   ]
  },
  {
   "cell_type": "code",
   "execution_count": 9,
   "metadata": {},
   "outputs": [
    {
     "name": "stdout",
     "output_type": "stream",
     "text": [
      "1.08 s ± 11.7 ms per loop (mean ± std. dev. of 7 runs, 1 loop each)\n"
     ]
    }
   ],
   "source": [
    "%timeit NA(l_)  # 1.2s, was 30s for version<=0.7.0"
   ]
  },
  {
   "cell_type": "markdown",
   "metadata": {},
   "source": [
    "## Timing of Hypervolume computation"
   ]
  },
  {
   "cell_type": "code",
   "execution_count": 34,
   "metadata": {},
   "outputs": [
    {
     "name": "stdout",
     "output_type": "stream",
     "text": [
      "19.7 ms ± 281 µs per loop (mean ± std. dev. of 7 runs, 10 loops each)\n"
     ]
    }
   ],
   "source": [
    "%timeit a = NA(nondom_arch(1_000), [5, 5])  # expect 28ms, takes 4 or 40x longer than without hypervolume computation"
   ]
  },
  {
   "cell_type": "code",
   "execution_count": 35,
   "metadata": {},
   "outputs": [
    {
     "name": "stdout",
     "output_type": "stream",
     "text": [
      "196 ms ± 2.04 ms per loop (mean ± std. dev. of 7 runs, 1 loop each)\n"
     ]
    }
   ],
   "source": [
    "%timeit a = NA(nondom_arch(10_000), [5, 5])  # expect 300ms"
   ]
  },
  {
   "cell_type": "code",
   "execution_count": 36,
   "metadata": {},
   "outputs": [
    {
     "name": "stdout",
     "output_type": "stream",
     "text": [
      "2.11 s ± 130 ms per loop (mean ± std. dev. of 7 runs, 1 loop each)\n"
     ]
    }
   ],
   "source": [
    "%timeit a = NA(nondom_arch(100_000), [5, 5])  # expect 3s, takes 3x longer than without hypervolume computation"
   ]
  },
  {
   "cell_type": "code",
   "execution_count": 37,
   "metadata": {},
   "outputs": [
    {
     "name": "stdout",
     "output_type": "stream",
     "text": [
      "137 ns ± 1.13 ns per loop (mean ± std. dev. of 7 runs, 10000000 loops each)\n"
     ]
    }
   ],
   "source": [
    "%%timeit a = NA(nondom_arch(1_000), [5, 5])  # expect 220ns\n",
    "a.hypervolume"
   ]
  },
  {
   "cell_type": "code",
   "execution_count": 38,
   "metadata": {},
   "outputs": [
    {
     "name": "stdout",
     "output_type": "stream",
     "text": [
      "140 ns ± 1.07 ns per loop (mean ± std. dev. of 7 runs, 10000000 loops each)\n"
     ]
    }
   ],
   "source": [
    "%%timeit a = NA(nondom_arch(10_000), [5, 5])  # expect 210ns\n",
    "a.hypervolume"
   ]
  },
  {
   "cell_type": "code",
   "execution_count": 39,
   "metadata": {},
   "outputs": [
    {
     "name": "stdout",
     "output_type": "stream",
     "text": [
      "142 ns ± 5.18 ns per loop (mean ± std. dev. of 7 runs, 10000000 loops each)\n"
     ]
    }
   ],
   "source": [
    "%%timeit a = NA(nondom_arch(100_000), [5, 5])  # expect 225ns \n",
    "a.hypervolume"
   ]
  },
  {
   "cell_type": "code",
   "execution_count": 40,
   "metadata": {},
   "outputs": [],
   "source": [
    "NA.hypervolume_computation_float_type = float"
   ]
  },
  {
   "cell_type": "code",
   "execution_count": 41,
   "metadata": {},
   "outputs": [
    {
     "name": "stdout",
     "output_type": "stream",
     "text": [
      "7.73 ms ± 176 µs per loop (mean ± std. dev. of 7 runs, 100 loops each)\n"
     ]
    }
   ],
   "source": [
    "%timeit a = NA(nondom_arch(1_000), [5, 5])  # expect 11ms, takes 4 or 40x longer than without hypervolume computation"
   ]
  },
  {
   "cell_type": "code",
   "execution_count": 42,
   "metadata": {},
   "outputs": [],
   "source": [
    "NA.hypervolume_final_float_type = float\n",
    "NA.hypervolume_computation_float_type = float"
   ]
  },
  {
   "cell_type": "code",
   "execution_count": 43,
   "metadata": {},
   "outputs": [
    {
     "name": "stdout",
     "output_type": "stream",
     "text": [
      "2.9 ms ± 70.9 µs per loop (mean ± std. dev. of 7 runs, 100 loops each)\n"
     ]
    }
   ],
   "source": [
    "%timeit a = NA(nondom_arch(1_000), [5, 5])  # expect 3.8ms, takes 4 or 40x longer than without hypervolume computation"
   ]
  }
 ],
 "metadata": {
  "kernelspec": {
   "display_name": "Python 3.7.12 ('base')",
   "language": "python",
   "name": "python3"
  },
  "language_info": {
   "codemirror_mode": {
    "name": "ipython",
    "version": 3
   },
   "file_extension": ".py",
   "mimetype": "text/x-python",
   "name": "python",
   "nbconvert_exporter": "python",
   "pygments_lexer": "ipython3",
   "version": "3.7.12"
  },
  "vscode": {
   "interpreter": {
    "hash": "d63c44124e99970b36478bac7366f7234ff1cfabe1191de4da3d5c25c8ed9e11"
   }
  }
 },
 "nbformat": 4,
 "nbformat_minor": 2
}
