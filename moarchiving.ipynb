{
 "cells": [
  {
   "cell_type": "markdown",
   "metadata": {},
   "source": [
    "# Introduction\n",
    "\n",
    "This library implements a multi-objective archive of non-dominated\n",
    "solutions for 2, 3 or 4 objectives, providing easy and fast access to\n",
    "multiple hypervolume indicators:\n",
    "- the hypervolume of the archive, \n",
    "- the contributing hypervolume of each element, \n",
    "- the [uncrowded hypervolume improvement](https://doi.org/10.1145/3321707.3321852) (see also [here](https://arxiv.org/abs/1904.08823)) of any given point in the objective space, and \n",
    "- the uncrowded hypervolume of the (unpruned) archive.\n",
    "\n",
    "\n",
    "## Installation\n",
    "\n",
    "On a system shell, either like\n",
    "```\n",
    "pip install moarchiving\n",
    "```\n",
    "\n",
    "or from GitHub, for example, from the `development` branch like\n",
    "```\n",
    "pip install git+https://github.com/CMA-ES/moarchiving.git@development\n",
    "```\n",
    "\n",
    "\n",
    "## Testing\n",
    "\n",
    "```\n",
    "python -m moarchiving.test\n",
    "```\n",
    "\n",
    "on a system shell should output something like\n",
    "\n",
    "```\n",
    "doctest.testmod(<module 'moarchiving.moarchiving2obj' from '...\\\\moarchiving\\\\moarchiving2obj.py'>)\n",
    "TestResults(failed=0, attempted=90)\n",
    "\n",
    "...\n",
    "\n",
    "OK\n",
    "unittest.TextTestRunner().run(unittest.TestLoader().loadTestsFromModule(<module 'moarchiving.tests.test_sorted_list' from '...\\\\moarchiving\\\\tests\\\\test_sorted_list.py'>))\n",
    ".......\n",
    "----------------------------------------------------------------------\n",
    "Ran 7 tests in 0.001s\n",
    "```\n",
    "\n",
    "\n",
    "## Details\n",
    "\n",
    "`moarchiving` with 2 objectives uses the [`fractions.Fraction`](https://docs.python.org/3/library/fractions.html) type to avoid rounding errors when computing hypervolume differences, but its usage can also be easily switched off by assigning the respective class attributes `hypervolume_computation_float_type` and `hypervolume_final_float_type`. The Fraction type can become prohibitively computationally expensive with increasing precision.\n",
    "\n",
    "The implementation of the two-objective archive is heavily based on the [`bisect`](https://docs.python.org/3/library/bisect.html) module, while in three and four objectives it is based on the [`sortedcontainers`](https://pypi.org/project/sortedcontainers/) module.\n",
    "\n",
    "\n",
    "## Links\n",
    "\n",
    "- [Code on Github](https://github.com/CMA-ES/moarchiving)\n",
    "- Documentation (possibly slighly outdated) in\n",
    "  - [this page plus performance test examples](https://cma-es.github.io/moarchiving/)\n",
    "  - [apidocs format](https://cma-es.github.io/moarchiving/moarchiving-apidocs/index.html)\n",
    "  - [epydocs format](https://cma-es.github.io/moarchiving/moarchiving-epydocs/index.html)\n",
    "\n",
    "## Releases\n",
    "- 1.0.0 addition of MOArchive classes for 3 and 4 objectives, as well as a class for handling solutions to constrained problems\n",
    "- 0.7.0 reimplementation of `BiobjectiveNondominatedSortedList.hypervolume_improvement` by extracting a sublist first.\n",
    "- 0.6.0 the `infos` attribute is a `list` with corresponding (arbitrary) information, e.g. for keeping the respective solutions.\n",
    "- 0.5.3 fixed assertion error when not using `fractions.Fraction`\n",
    "- 0.5.2 first published version\n",
    "\n",
    "# Usage examples\n",
    "1. [Initialization](#1-initialization)\n",
    "2. [Constrained MOArchive](#2-constrained-moarchive)\n",
    "3. [Accessing solution information](#3-accessing-solution-information)\n",
    "4. [Adding solutions](#4-adding-solutions)\n",
    "5. [Archive size](#5-archive-size)\n",
    "6. [Performance indicators](#6-performance-indicators)\n",
    "7. [Contributing hypervolumes](#7-contributing-hypervolumes)\n",
    "8. [Hypervolume improvement](#8-hypervolume-improvement)\n",
    "9. [Distance to the Pareto front](#9-distance-to-the-pareto-front)\n",
    "10. [Enabling or disabling fractions](#10-enabling-or-disabling-fractions)\n",
    "11. [Additional functions](#11-additional-functions)\n",
    "12. [Visualization of indicator values](#12-visualization-of-indicator-values)\n",
    "13. [Performance tests](#13-performance-tests)"
   ]
  },
  {
   "cell_type": "markdown",
   "metadata": {},
   "source": [
    "### 1. Initialization\n",
    "The MOArchive object can be created using the `get_mo_archive` function by providing a list of objective values, a reference point, or at least the number of objectives. \n",
    "Further solutions can always be added using `add` or `add_list` methods, but the reference point cannot be changed once the instance is created. A list of information strings can be provided for each element, which will be stored as long as the corresponding element remains in the archive (e.g., the x values of the element). At any time, the list of non-dominated elements and their corresponding information can be accessed."
   ]
  },
  {
   "cell_type": "code",
   "execution_count": 1,
   "metadata": {
    "ExecuteTime": {
     "end_time": "2025-02-11T10:02:13.006989Z",
     "start_time": "2025-02-11T10:02:12.953105Z"
    }
   },
   "outputs": [
    {
     "name": "stdout",
     "output_type": "stream",
     "text": [
      "points in the 2 objective archive: [[1, 5], [2, 3], [5, 0]]\n",
      "points in the 3 objective archive: [[3, 3, 0], [2, 2, 1], [1, 2, 3]]\n",
      "points in the 4 objective archive: [[1, 3, 0, 1], [1, 2, 3, 4]]\n"
     ]
    }
   ],
   "source": [
    "from moarchiving import get_mo_archive\n",
    "\n",
    "moa2obj = get_mo_archive([[1, 5], [2, 3], [4, 5], [5, 0]], reference_point=[10, 10], infos=[\"a\", \"b\", \"c\", \"d\"])\n",
    "moa3obj = get_mo_archive([[1, 2, 3], [3, 2, 1], [3, 3, 0], [2, 2, 1]], [10, 10, 10], [\"a\", \"b\", \"c\", \"d\"])\n",
    "moa4obj = get_mo_archive([[1, 2, 3, 4], [1, 3, 4, 5], [4, 3, 2, 1], [1, 3, 0, 1]], reference_point=[10, 10, 10, 10], infos=[\"a\", \"b\", \"c\", \"d\"])\n",
    "\n",
    "print(\"points in the 2 objective archive:\", list(moa2obj))\n",
    "print(\"points in the 3 objective archive:\", list(moa3obj))\n",
    "print(\"points in the 4 objective archive:\", list(moa4obj))"
   ]
  },
  {
   "cell_type": "markdown",
   "metadata": {},
   "source": [
    "MOArchive objects can also be initialized empty."
   ]
  },
  {
   "cell_type": "code",
   "execution_count": 2,
   "metadata": {
    "ExecuteTime": {
     "end_time": "2025-02-11T10:02:13.021921Z",
     "start_time": "2025-02-11T10:02:13.008956Z"
    }
   },
   "outputs": [
    {
     "name": "stdout",
     "output_type": "stream",
     "text": [
      "points in the empty archive: []\n"
     ]
    }
   ],
   "source": [
    "moa = get_mo_archive(reference_point=[4, 4, 4])\n",
    "print(\"points in the empty archive:\", list(moa))"
   ]
  },
  {
   "cell_type": "markdown",
   "metadata": {},
   "source": [
    "### 2. Constrained MOArchive\n",
    "Constrained MOArchive supports all the functionalities of a non-constrained MOArchive, with the added capability of handling constraints when adding or initializing the archive. In addition to the objective values of a solution, constraint values must be provided in the form of a list or a number. A solution is deemed feasible when all its constraint values are less than or equal to zero. "
   ]
  },
  {
   "cell_type": "code",
   "execution_count": 3,
   "metadata": {
    "ExecuteTime": {
     "end_time": "2025-02-11T10:02:13.037529Z",
     "start_time": "2025-02-11T10:02:13.022929Z"
    }
   },
   "outputs": [
    {
     "name": "stdout",
     "output_type": "stream",
     "text": [
      "points in the archive: [[4, 3, 2], [1, 3, 4]]\n"
     ]
    }
   ],
   "source": [
    "from moarchiving import get_cmo_archive\n",
    "\n",
    "cmoa = get_cmo_archive([[1, 2, 3], [1, 3, 4], [4, 3, 2], [1, 3, 0]], [[3, 0], [0, 0], [0, 0], [0, 1]], \n",
    "                       reference_point=[5, 5, 5], infos=[\"a\", \"b\", \"c\", \"d\"])\n",
    "print(\"points in the archive:\", list(cmoa))"
   ]
  },
  {
   "cell_type": "markdown",
   "metadata": {},
   "source": [
    "### 3. Accessing solution information\n",
    "`archive.infos` is used to get the information on solutions in the archive."
   ]
  },
  {
   "cell_type": "code",
   "execution_count": 4,
   "metadata": {
    "ExecuteTime": {
     "end_time": "2025-02-11T10:02:13.052920Z",
     "start_time": "2025-02-11T10:02:13.040522Z"
    }
   },
   "outputs": [
    {
     "name": "stdout",
     "output_type": "stream",
     "text": [
      "infos of the empty archive []\n",
      "infos of the constrained archive ['c', 'b']\n"
     ]
    }
   ],
   "source": [
    "# infos of the previously defined empty archive\n",
    "print(\"infos of the empty archive\", moa.infos)\n",
    "print(\"infos of the constrained archive\", cmoa.infos)"
   ]
  },
  {
   "cell_type": "markdown",
   "metadata": {},
   "source": [
    "### 4. Adding solutions\n",
    "Solutions can be added to the MOArchive at any time using the `add` function (for a single solution) or the `add_list` function (for multiple solutions)."
   ]
  },
  {
   "cell_type": "code",
   "execution_count": 5,
   "metadata": {
    "ExecuteTime": {
     "end_time": "2025-02-11T10:02:13.067856Z",
     "start_time": "2025-02-11T10:02:13.054891Z"
    }
   },
   "outputs": [
    {
     "name": "stdout",
     "output_type": "stream",
     "text": [
      "points: [[1, 2, 3]]\n",
      "infos: ['a']\n",
      "points: [[3, 2, 1], [2, 2, 2], [1, 2, 3]]\n",
      "infos: ['b', 'd', 'a']\n"
     ]
    }
   ],
   "source": [
    "moa.add([1, 2, 3], \"a\")\n",
    "print(\"points:\", list(moa))\n",
    "print(\"infos:\", moa.infos)\n",
    "\n",
    "moa.add_list([[3, 2, 1], [2, 3, 2], [2, 2, 2]], [\"b\", \"c\", \"d\"])\n",
    "print(\"points:\", list(moa))\n",
    "print(\"infos:\", moa.infos)"
   ]
  },
  {
   "cell_type": "markdown",
   "metadata": {},
   "source": [
    "When adding to the constrained archive, constraint values must be added as well."
   ]
  },
  {
   "cell_type": "code",
   "execution_count": 6,
   "metadata": {
    "ExecuteTime": {
     "end_time": "2025-02-11T10:02:13.082815Z",
     "start_time": "2025-02-11T10:02:13.069850Z"
    }
   },
   "outputs": [
    {
     "name": "stdout",
     "output_type": "stream",
     "text": [
      "points: [[4, 3, 2], [3, 3, 3], [1, 3, 4]]\n",
      "infos: ['c', 'e', 'b']\n"
     ]
    }
   ],
   "source": [
    "cmoa.add_list([[3, 3, 3], [1, 1, 1]], [[0, 0], [42, 0]], [\"e\", \"f\"])\n",
    "print(\"points:\", list(cmoa))\n",
    "print(\"infos:\", cmoa.infos)"
   ]
  },
  {
   "cell_type": "markdown",
   "metadata": {},
   "source": [
    "### 5. Archive size\n",
    "The MOArchive implements some functionality of a list (in the 2 objective case, it actually extends the `list` class, though this is not the case in 3 and 4 objectives).  In particular, it includes the `len` method to get the number of solutions in the archive as well as the `in` keyword to check if a point is in the archive."
   ]
  },
  {
   "cell_type": "code",
   "execution_count": 7,
   "metadata": {
    "ExecuteTime": {
     "end_time": "2025-02-11T10:02:13.098772Z",
     "start_time": "2025-02-11T10:02:13.084811Z"
    }
   },
   "outputs": [
    {
     "name": "stdout",
     "output_type": "stream",
     "text": [
      "Points in the archive: [[3, 2, 1], [2, 2, 2], [1, 2, 3]]\n",
      "Length of the archive: 3\n",
      "[2, 2, 2] in moa: True\n",
      "[3, 2, 0] in moa: False\n"
     ]
    }
   ],
   "source": [
    "print(\"Points in the archive:\", list(moa))\n",
    "print(\"Length of the archive:\", len(moa))\n",
    "print(\"[2, 2, 2] in moa:\", [2, 2, 2] in moa)\n",
    "print(\"[3, 2, 0] in moa:\", [3, 2, 0] in moa)"
   ]
  },
  {
   "cell_type": "markdown",
   "metadata": {},
   "source": [
    "### 6. Performance indicators\n",
    "An archive provides the following performance indicators:\n",
    "- `hypervolume`\n",
    "- `hypervolume_plus`, providing additionally the closest distance to the reference area for an empty archive, see [here](https://doi.org/10.1145/3321707.3321852) and [here](https://doi.org/10.1109/TEVC.2022.3210897)\n",
    "- `hypervolume_plus_constr` (for CMOArchive), based on, but not completely equal to the one defined [here](https://doi.org/10.1016/j.ins.2022.05.106)\n",
    "\n",
    "Indicators are defined for maximization (the original `hypervolume_plus_constr` indicator is multiplied by -1). When the archive is not empty, all the indicators are positive and have the same value. As the archive does not (yet) support an ideal point, the values of indicators are not normalized.\n"
   ]
  },
  {
   "cell_type": "code",
   "execution_count": 8,
   "metadata": {
    "ExecuteTime": {
     "end_time": "2025-02-11T10:02:13.113735Z",
     "start_time": "2025-02-11T10:02:13.101772Z"
    }
   },
   "outputs": [
    {
     "name": "stdout",
     "output_type": "stream",
     "text": [
      "Hypervolume of the archive: 12\n",
      "Hypervolume plus of the archive: 12\n"
     ]
    }
   ],
   "source": [
    "print(\"Hypervolume of the archive:\", moa.hypervolume)\n",
    "print(\"Hypervolume plus of the archive:\", moa.hypervolume_plus)"
   ]
  },
  {
   "cell_type": "markdown",
   "metadata": {},
   "source": [
    "In case of a constrained MOArchive, the `hypervolume_plus_constr` attribute can be accessed as well. "
   ]
  },
  {
   "cell_type": "code",
   "execution_count": 9,
   "metadata": {
    "ExecuteTime": {
     "end_time": "2025-02-11T10:02:13.128695Z",
     "start_time": "2025-02-11T10:02:13.115740Z"
    }
   },
   "outputs": [
    {
     "name": "stdout",
     "output_type": "stream",
     "text": [
      "Hyperolume of the constrained archive: 14\n",
      "Hypervolume plus of the constrained archive: 14\n",
      "Hypervolume plus constr of the constrained archive: 14\n"
     ]
    }
   ],
   "source": [
    "print(\"Hyperolume of the constrained archive:\", cmoa.hypervolume)\n",
    "print(\"Hypervolume plus of the constrained archive:\", cmoa.hypervolume_plus)\n",
    "print(\"Hypervolume plus constr of the constrained archive:\", cmoa.hypervolume_plus_constr)"
   ]
  },
  {
   "cell_type": "markdown",
   "metadata": {},
   "source": [
    "### 7. Contributing hypervolumes\n",
    "The `contributing_hypervolumes` attribute provides a list of hypervolume contributions for each point of the archive. Alternatively, the contribution for a single point can be computed using the `contributing_hypervolume(point)` method."
   ]
  },
  {
   "cell_type": "code",
   "execution_count": 10,
   "metadata": {
    "ExecuteTime": {
     "end_time": "2025-02-11T10:02:13.144651Z",
     "start_time": "2025-02-11T10:02:13.131685Z"
    }
   },
   "outputs": [
    {
     "name": "stdout",
     "output_type": "stream",
     "text": [
      "contributing hv of point [3, 2, 1] is 2\n",
      "contributing hv of point [2, 2, 2] is 2\n",
      "contributing hv of point [1, 2, 3] is 2\n",
      "All contributing hypervolumes: [Fraction(2, 1), Fraction(2, 1), Fraction(2, 1)]\n"
     ]
    }
   ],
   "source": [
    "for i, objectives in enumerate(moa):\n",
    "    assert moa.contributing_hypervolume(objectives) == moa.contributing_hypervolumes[i]\n",
    "    print(\"contributing hv of point\", objectives, \"is\", moa.contributing_hypervolume(objectives))\n",
    "\n",
    "print(\"All contributing hypervolumes:\", moa.contributing_hypervolumes)"
   ]
  },
  {
   "cell_type": "markdown",
   "metadata": {},
   "source": [
    "### 8. Hypervolume improvement\n",
    "The `hypervolume_improvement(point)` method returns the improvement of the hypervolume if we would add the point to the archive."
   ]
  },
  {
   "cell_type": "code",
   "execution_count": 11,
   "metadata": {
    "ExecuteTime": {
     "end_time": "2025-02-11T10:02:13.159612Z",
     "start_time": "2025-02-11T10:02:13.145649Z"
    }
   },
   "outputs": [
    {
     "name": "stdout",
     "output_type": "stream",
     "text": [
      "hypervolume before adding [1, 3, 0]: 12\n",
      "hypervolume improvement of point [1, 3, 0]: 6\n",
      "hypervolume after adding [1, 3, 0]: 18\n"
     ]
    }
   ],
   "source": [
    "point = [1, 3, 0]\n",
    "print(f\"hypervolume before adding {point}: {moa.hypervolume}\")\n",
    "print(f\"hypervolume improvement of point {point}: {moa.hypervolume_improvement(point)}\")\n",
    "moa.add(point)\n",
    "print(f\"hypervolume after adding {point}: {moa.hypervolume}\")"
   ]
  },
  {
   "cell_type": "markdown",
   "metadata": {},
   "source": [
    "### 9. Distance to the empirical Pareto front\n",
    "The `distance_to_pareto_front(point)` method returns the distance between the given point and the Pareto front."
   ]
  },
  {
   "cell_type": "code",
   "execution_count": 12,
   "metadata": {
    "ExecuteTime": {
     "end_time": "2025-02-11T10:02:13.175569Z",
     "start_time": "2025-02-11T10:02:13.161608Z"
    }
   },
   "outputs": [
    {
     "name": "stdout",
     "output_type": "stream",
     "text": [
      "Current archive: [[1, 3, 0], [3, 2, 1], [2, 2, 2], [1, 2, 3]]\n",
      "Distance of [3, 2, 1] to pareto front: 0.0\n",
      "Distance of [3, 2, 2] to pareto front: 1.0\n"
     ]
    }
   ],
   "source": [
    "print(f\"Current archive: {list(moa)}\")\n",
    "print(\"Distance of [3, 2, 1] to pareto front:\", moa.distance_to_pareto_front([3, 2, 1]))\n",
    "print(\"Distance of [3, 2, 2] to pareto front:\", moa.distance_to_pareto_front([3, 3, 3]))"
   ]
  },
  {
   "cell_type": "markdown",
   "metadata": {},
   "source": [
    "### 10. Enabling or disabling fractions \n",
    "To avoid loss of precision, fractions are used by default. This can be changed to floats by setting the `hypervolume_final_float_type` and `hypervolume_computation_float_type` function attributes."
   ]
  },
  {
   "cell_type": "code",
   "execution_count": 13,
   "metadata": {
    "ExecuteTime": {
     "end_time": "2025-02-11T10:02:13.191547Z",
     "start_time": "2025-02-11T10:02:13.176566Z"
    }
   },
   "outputs": [
    {
     "name": "stdout",
     "output_type": "stream",
     "text": [
      "161245156349030777798724819133399/10141204801825835211973625643008\n",
      "15.899999999999999\n"
     ]
    }
   ],
   "source": [
    "import fractions\n",
    "get_mo_archive.hypervolume_computation_float_type = fractions.Fraction\n",
    "get_mo_archive.hypervolume_final_float_type = fractions.Fraction\n",
    "\n",
    "moa3_fr = get_mo_archive([[1, 2, 3], [2, 1, 3], [3, 3, 1.32], [1.3, 1.3, 3], [1.7, 1.1, 2]], reference_point=[4, 4, 4])\n",
    "print(moa3_fr.hypervolume)\n",
    "\n",
    "get_mo_archive.hypervolume_computation_float_type = float\n",
    "get_mo_archive.hypervolume_final_float_type = float\n",
    "\n",
    "moa3_nofr = get_mo_archive([[1, 2, 3], [2, 1, 3], [3, 3, 1.32], [1.3, 1.3, 3], [1.7, 1.1, 2]], reference_point=[4, 4, 4])\n",
    "print(moa3_nofr.hypervolume)"
   ]
  },
  {
   "cell_type": "markdown",
   "metadata": {},
   "source": [
    "### 11. Additional functions\n",
    "MOArchive also implements additional functions to check whether a given point is in the archive:\n",
    "- `in_domain`: Is the point in the domain?\n",
    "- `dominates`: Is the point dominated by the archive?\n",
    "- `dominators`: Which points (and how many) dominate the given point?"
   ]
  },
  {
   "cell_type": "code",
   "execution_count": 14,
   "metadata": {
    "ExecuteTime": {
     "end_time": "2025-02-11T10:02:13.206978Z",
     "start_time": "2025-02-11T10:02:13.192523Z"
    }
   },
   "outputs": [
    {
     "name": "stdout",
     "output_type": "stream",
     "text": [
      "archive: [[1, 3, 0], [3, 2, 1], [2, 2, 2], [1, 2, 3]] \n",
      "\n",
      "point     | in domain | dominates | num of dominators | dominators\n",
      "----------|-----------|-----------|-------------------|-----------\n",
      "[5, 5, 0] |         0 |         1 |                 1 | [[1, 3, 0]]\n",
      "[2, 2, 3] |         1 |         1 |                 2 | [[2, 2, 2], [1, 2, 3]]\n",
      "[0, 2, 3] |         1 |         0 |                 0 | []\n"
     ]
    }
   ],
   "source": [
    "points_list = [[5, 5, 0], [2, 2, 3], [0, 2, 3]]\n",
    "print(\"archive:\", list(moa), \"\\n\")\n",
    "print(\"point     | in domain | dominates | num of dominators | dominators\")\n",
    "print(\"----------|-----------|-----------|-------------------|-----------\")\n",
    "for point in points_list:\n",
    "    print(f\"{point} | {moa.in_domain(point):9} | {moa.dominates(point):9} | \"\n",
    "          f\"{moa.dominators(point, number_only=True):17} | {moa.dominators(point)}\")"
   ]
  },
  {
   "cell_type": "markdown",
   "metadata": {},
   "source": [
    "### 12. Visualization of indicator values\n",
    "By saving the values of indicators for each solution added to the archive, we can visualize their change over time."
   ]
  },
  {
   "cell_type": "code",
   "execution_count": 15,
   "metadata": {
    "ExecuteTime": {
     "end_time": "2025-02-11T10:02:14.715856Z",
     "start_time": "2025-02-11T10:02:13.208974Z"
    }
   },
   "outputs": [],
   "source": [
    "import matplotlib.pyplot as plt\n",
    "import random\n",
    "\n",
    "n_obj = 3\n",
    "\n",
    "indicators_cmoa = []\n",
    "indicators_moa = []\n",
    "cmoa = get_cmo_archive(reference_point=[0.5] * n_obj, n_obj=n_obj, tau=0.2)\n",
    "moa = get_mo_archive(reference_point=[0.1] * n_obj, n_obj=n_obj)\n",
    "\n",
    "for i in range(2000):\n",
    "    objectives = [random.random() for _ in range(n_obj)]\n",
    "    constraints = [max(random.random() - 0.1, 0), max(random.random() - 0.1, 0)]\n",
    "    \n",
    "    cmoa.add(objectives, constraints, info=f\"point_{i}\")\n",
    "    moa.add(objectives, info=f\"point_{i}\")\n",
    "    \n",
    "    indicators_cmoa.append((cmoa.hypervolume_plus_constr, cmoa.hypervolume_plus, cmoa.hypervolume))\n",
    "    indicators_moa.append((moa.hypervolume_plus, moa.hypervolume))\n",
    "    "
   ]
  },
  {
   "cell_type": "code",
   "execution_count": 16,
   "metadata": {
    "ExecuteTime": {
     "end_time": "2025-02-11T10:02:15.047297Z",
     "start_time": "2025-02-11T10:02:14.716857Z"
    }
   },
   "outputs": [
    {
     "data": {
      "image/png": "[encoded data removed]",
      "text/plain": [
       "<Figure size 1000x500 with 2 Axes>"
      ]
     },
     "metadata": {},
     "output_type": "display_data"
    }
   ],
   "source": [
    "fig, axs = plt.subplots(1, 2, figsize=(10, 5))\n",
    "axs[0].plot([x[2] for x in indicators_cmoa], label=\"hypervolume\")\n",
    "axs[0].plot([x[1] for x in indicators_cmoa], label=\"hypervolume_plus\")\n",
    "axs[0].plot([x[0] for x in indicators_cmoa], label=\"hypervolume_plus_constr\")\n",
    "axs[0].axhline(0, color=\"black\", linestyle=\"--\", zorder=0)\n",
    "axs[0].axhline(-cmoa.tau, color=\"black\", linestyle=\"--\", zorder=0)\n",
    "axs[0].set_title(\"Constrained MOArchive\")\n",
    "axs[0].legend()\n",
    "\n",
    "axs[1].plot([x[1] for x in indicators_moa], label=\"hypervolume\")\n",
    "axs[1].plot([x[0] for x in indicators_moa], label=\"hypervolume_plus\")\n",
    "axs[1].set_title(\"MOArchive\")\n",
    "axs[1].axhline(0, color=\"black\", linestyle=\"--\", zorder=0)\n",
    "axs[1].legend()\n",
    "plt.show()"
   ]
  },
  {
   "cell_type": "markdown",
   "metadata": {},
   "source": [
    "### 13. Performance tests"
   ]
  },
  {
   "cell_type": "code",
   "execution_count": 17,
   "metadata": {
    "ExecuteTime": {
     "end_time": "2025-02-11T10:02:15.062512Z",
     "start_time": "2025-02-11T10:02:15.049276Z"
    }
   },
   "outputs": [],
   "source": [
    "import time\n",
    "from moarchiving.tests.point_sampling import get_non_dominated_points\n",
    "test_archive_sizes = [0] + [2 ** i for i in range(21)]\n",
    "\n",
    "get_mo_archive.hypervolume_computation_float_type = fractions.Fraction\n",
    "get_mo_archive.hypervolume_final_float_type = fractions.Fraction"
   ]
  },
  {
   "cell_type": "markdown",
   "metadata": {},
   "source": [
    "#### 13.1. Initializing the archive"
   ]
  },
  {
   "cell_type": "code",
   "execution_count": 18,
   "metadata": {
    "ExecuteTime": {
     "end_time": "2025-02-11T10:04:03.275197Z",
     "start_time": "2025-02-11T10:02:15.063400Z"
    }
   },
   "outputs": [
    {
     "name": "stdout",
     "output_type": "stream",
     "text": [
      "Testing 2 objectives\n",
      "...............\n",
      "Testing 3 objectives\n",
      ".............\n",
      "Testing 4 objectives\n",
      ".........\n"
     ]
    },
    {
     "data": {
      "image/png": "[encoded data removed]",
      "text/plain": [
       "<Figure size 640x480 with 1 Axes>"
      ]
     },
     "metadata": {},
     "output_type": "display_data"
    }
   ],
   "source": [
    "n_repeats = 100\n",
    "time_limit = 10\n",
    "\n",
    "for n_obj in [2, 3, 4]:\n",
    "    print(f\"Testing {n_obj} objectives\")\n",
    "    times = []\n",
    "    archive_sizes = []\n",
    "    \n",
    "    for archive_size in test_archive_sizes:\n",
    "        points = get_non_dominated_points(archive_size, n_dim=n_obj)\n",
    "        t0 = time.time()\n",
    "        moa = [get_mo_archive(points, [1] * n_obj, n_obj=n_obj)\n",
    "               for _ in range(n_repeats)]\n",
    "        hv = [m.hypervolume for m in moa]\n",
    "        t1 = time.time()\n",
    "        \n",
    "        times.append(max((t1 - t0) / n_repeats, 10e-4))\n",
    "        print(\".\", end=\"\")\n",
    "        archive_sizes.append(archive_size)\n",
    "        \n",
    "        if t1 - t0 > time_limit:\n",
    "            break\n",
    "    print()\n",
    "    \n",
    "    plt.plot(archive_sizes, times, '-o', label=f\"{n_obj} objectives\")\n",
    "\n",
    "plt.title(\"Initialization and hypervolume computation\")\n",
    "plt.xlabel(\"Archive size\")\n",
    "plt.ylabel(\"Time [s]\")\n",
    "plt.yscale(\"log\")\n",
    "plt.xscale(\"log\")\n",
    "plt.grid(True)\n",
    "plt.legend()\n",
    "plt.show()"
   ]
  },
  {
   "cell_type": "markdown",
   "metadata": {},
   "source": [
    "#### 13.2. Adding a solution to an existing archive"
   ]
  },
  {
   "cell_type": "code",
   "execution_count": 19,
   "metadata": {
    "ExecuteTime": {
     "end_time": "2025-02-11T10:14:31.369609Z",
     "start_time": "2025-02-11T10:04:03.276157Z"
    }
   },
   "outputs": [
    {
     "name": "stdout",
     "output_type": "stream",
     "text": [
      "Testing 2 objectives\n",
      "......................\n",
      "Testing 3 objectives\n",
      "................\n",
      "Testing 4 objectives\n",
      "...........\n"
     ]
    },
    {
     "data": {
      "image/png": "[encoded data removed]",
      "text/plain": [
       "<Figure size 640x480 with 1 Axes>"
      ]
     },
     "metadata": {},
     "output_type": "display_data"
    }
   ],
   "source": [
    "n_repeats = 10\n",
    "time_limit = 10\n",
    "\n",
    "for n_obj in [2, 3, 4]:\n",
    "    print(f\"Testing {n_obj} objectives\")\n",
    "    times = []\n",
    "    archive_sizes = []\n",
    "\n",
    "    for archive_size in test_archive_sizes:\n",
    "        \n",
    "        points = get_non_dominated_points(archive_size, n_dim=n_obj)\n",
    "        add_points = get_non_dominated_points(n_repeats, n_dim=n_obj)\n",
    "        moa = [get_mo_archive(points, [1] * n_obj, n_obj=n_obj) for _ in range(n_repeats)]\n",
    "        \n",
    "        t0 = time.time()\n",
    "        for i, m in enumerate(moa):\n",
    "            m.add(add_points[i])\n",
    "        t1 = time.time()\n",
    "\n",
    "        times.append(max((t1 - t0) / n_repeats, 10e-4))\n",
    "        print(\".\", end=\"\")\n",
    "        archive_sizes.append(archive_size)\n",
    "\n",
    "        if t1 - t0 > time_limit:\n",
    "            break\n",
    "    print()\n",
    "    time.sleep(1)\n",
    "\n",
    "    plt.plot(archive_sizes, times, '-o', label=f\"{n_obj} objectives\")\n",
    "\n",
    "plt.title(\"Adding a point to the archive\")\n",
    "plt.xlabel(\"Archive size\")\n",
    "plt.ylabel(\"Time [s]\")\n",
    "plt.yscale(\"log\")\n",
    "plt.xscale(\"log\")\n",
    "plt.grid(True)\n",
    "plt.legend()\n",
    "plt.show()"
   ]
  }
 ],
 "metadata": {
  "kernelspec": {
   "display_name": "base",
   "language": "python",
   "name": "python3"
  },
  "language_info": {
   "codemirror_mode": {
    "name": "ipython",
    "version": 3
   },
   "file_extension": ".py",
   "mimetype": "text/x-python",
   "name": "python",
   "nbconvert_exporter": "python",
   "pygments_lexer": "ipython3",
   "version": "3.9.18"
  }
 },
 "nbformat": 4,
 "nbformat_minor": 4
}
